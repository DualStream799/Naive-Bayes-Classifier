{
 "cells": [
  {
   "cell_type": "markdown",
   "metadata": {},
   "source": [
    "## Proposta:\n",
    "\n",
    "O Classificador Naive-Bayes, o qual se baseia no uso do teorema de Bayes, é largamente utilizado em filtros anti-spam de e-mails. O classificador permite calcular qual a probabilidade de uma mensagem ser SPAM considerando as palavras em seu conteúdo e, de forma complementar, permite calcular a probabilidade de uma mensagem ser HAM (não-SPAM) dada as palavras descritas na mensagem.\n",
    "\n",
    "O MVP (_minimum viable product_) do projeto consiste em um do classificador que \"aprende\" o que é uma mensagem SPAM considerando uma base de treinamento e posteriormente classifica mensagens como SPAM considerando uma base de testes (diferente da base de treinamento) e é capaz de calcular seu desempenho (comparando os resultados obtidos com a classificação real)"
   ]
  },
  {
   "cell_type": "markdown",
   "metadata": {},
   "source": [
    "## Importando bibliotecas:"
   ]
  },
  {
   "cell_type": "code",
   "execution_count": 1,
   "metadata": {},
   "outputs": [],
   "source": [
    "from collections import Counter as frequence_counter\n",
    "from sklearn.model_selection import train_test_split\n",
    "from nltk.stem.snowball import SnowballStemmer\n",
    "stemmer = SnowballStemmer(\"english\")\n",
    "import matplotlib.pyplot as plt\n",
    "from pprint import pprint\n",
    "import pandas as pd\n",
    "import numpy as np\n",
    "import os"
   ]
  },
  {
   "cell_type": "markdown",
   "metadata": {},
   "source": [
    "## Filtrando banco de dados:"
   ]
  },
  {
   "cell_type": "markdown",
   "metadata": {},
   "source": [
    "A filtragem do banco de dados foi feita com base nas seguintes simplificações:\n",
    "\n",
    "* Converter todas as letras em minúsculas (evita de termos contagem de duas palavras iguais em significado mas escritas diferentemente. Ex.: \"casa\" e \"Casa\")\n",
    "\n",
    "* Manter somente letras e números (elimina quaisquer outros caracteres tais como caracteres especiais, pontuações, emojis, etc)\n",
    "\n",
    "Note que a filtragem foi feita antes da separação entre base de teste e base de treinamento por conveniência, uma vez que a filtragem teria que ser feita em ambas futuramente."
   ]
  },
  {
   "cell_type": "code",
   "execution_count": 2,
   "metadata": {},
   "outputs": [],
   "source": [
    "def database_cleaner(dataframe, column, export=False):\n",
    "    \n",
    "    # Alphanumerics symbols:\n",
    "    alpha_numerics = ['a', 'b', 'c', 'd', 'e', 'f', 'g', 'h', 'i', 'j', 'k', 'l', 'm', 'n', 'o', 'p', 'q', 'r', 's', 't', 'u',\n",
    "                      'v', 'w', 'x', 'y', 'z', '1', '2', '3', '4', '5', '6', '7', '8', '9', '0', ' ']\n",
    "    \n",
    "    comments_list = []\n",
    "    \n",
    "    # Reading all comments in a dataframe's column:\n",
    "    for comment in dataframe[column]:\n",
    "        # Converting all letters to lowercase:\n",
    "        comment = comment.lower()\n",
    "        # Selecting only alphanumeric characters:\n",
    "        char_list = [char for char in comment if char in alpha_numerics]\n",
    "        # Generating clean comment:\n",
    "        clean_comment = ''.join(char_list)\n",
    "        \n",
    "        #clean_comment_stem = [stemmer.stem(word) for word in clean_comment]\n",
    "        \n",
    "        #final_comment = '.'\n",
    "        \n",
    "        #comments_list.append(clean_comment_stemizados)\n",
    "        comments_list.append(clean_comment)\n",
    "        \n",
    "    # Overwriting dataframe column with clean comments:\n",
    "    dataframe[column] = comments_list\n",
    "    \n",
    "    # Exportation control:\n",
    "    if export == False:\n",
    "        return dataframe\n",
    "    elif export == True:\n",
    "        dataframe.to_excel('clean-spamham2019.xlsx')"
   ]
  },
  {
   "cell_type": "code",
   "execution_count": 3,
   "metadata": {},
   "outputs": [],
   "source": [
    "database_cleaner(pd.read_excel('spamham2019.xlsx'), 'Email', export=True)"
   ]
  },
  {
   "cell_type": "code",
   "execution_count": 4,
   "metadata": {},
   "outputs": [
    {
     "data": {
      "text/html": [
       "<div>\n",
       "<style scoped>\n",
       "    .dataframe tbody tr th:only-of-type {\n",
       "        vertical-align: middle;\n",
       "    }\n",
       "\n",
       "    .dataframe tbody tr th {\n",
       "        vertical-align: top;\n",
       "    }\n",
       "\n",
       "    .dataframe thead th {\n",
       "        text-align: right;\n",
       "    }\n",
       "</style>\n",
       "<table border=\"1\" class=\"dataframe\">\n",
       "  <thead>\n",
       "    <tr style=\"text-align: right;\">\n",
       "      <th></th>\n",
       "      <th>Email</th>\n",
       "      <th>Class</th>\n",
       "    </tr>\n",
       "  </thead>\n",
       "  <tbody>\n",
       "    <tr>\n",
       "      <th>0</th>\n",
       "      <td>go until jurong point crazy available only in ...</td>\n",
       "      <td>ham</td>\n",
       "    </tr>\n",
       "    <tr>\n",
       "      <th>1</th>\n",
       "      <td>ok lar joking wif u oni</td>\n",
       "      <td>ham</td>\n",
       "    </tr>\n",
       "    <tr>\n",
       "      <th>2</th>\n",
       "      <td>free entry in 2 a wkly comp to win fa cup fina...</td>\n",
       "      <td>spam</td>\n",
       "    </tr>\n",
       "    <tr>\n",
       "      <th>3</th>\n",
       "      <td>u dun say so early hor u c already then say</td>\n",
       "      <td>ham</td>\n",
       "    </tr>\n",
       "    <tr>\n",
       "      <th>4</th>\n",
       "      <td>nah i dont think he goes to usf he lives aroun...</td>\n",
       "      <td>ham</td>\n",
       "    </tr>\n",
       "  </tbody>\n",
       "</table>\n",
       "</div>"
      ],
      "text/plain": [
       "                                               Email Class\n",
       "0  go until jurong point crazy available only in ...   ham\n",
       "1                            ok lar joking wif u oni   ham\n",
       "2  free entry in 2 a wkly comp to win fa cup fina...  spam\n",
       "3        u dun say so early hor u c already then say   ham\n",
       "4  nah i dont think he goes to usf he lives aroun...   ham"
      ]
     },
     "execution_count": 4,
     "metadata": {},
     "output_type": "execute_result"
    }
   ],
   "source": [
    "clean_df = pd.read_excel('clean-spamham2019.xlsx')\n",
    "clean_df.head()"
   ]
  },
  {
   "cell_type": "markdown",
   "metadata": {},
   "source": [
    "___"
   ]
  },
  {
   "cell_type": "markdown",
   "metadata": {},
   "source": [
    "## Separação da base de dados:\n",
    "\n",
    "A base de dados deve ser separada em duas partes, aleatoriamente, na seguinte proporção:     \n",
    "* 75% dos dados para a Base de Treinamento\n",
    "* 25% dos dados para a Base de Teste"
   ]
  },
  {
   "cell_type": "code",
   "execution_count": 5,
   "metadata": {},
   "outputs": [],
   "source": [
    "def database_separator(database, test_size, display):\n",
    "    # Database separation:\n",
    "    training_data, testing_data = train_test_split(database, test_size=test_size)\n",
    "    # Percentage variables:\n",
    "    training_size = len(training_data)\n",
    "    training_percent = round( (len(training_data)/len(database))*100, 3)\n",
    "    testing_size = len(testing_data)\n",
    "    testing_percent = round( (len(testing_data)/len(database))*100, 3)\n",
    "    training_percent_spam = round(len(training_data.loc[training_data[\"Class\"]=='spam'])/ len(clean_df)*100, 3)\n",
    "    training_percent_spam_c = round(len(training_data.loc[training_data[\"Class\"]=='ham'])/ len(clean_df)*100, 3)\n",
    "    \n",
    "    if display == True:\n",
    "        # Shows the separation's absolute and relative values:\n",
    "        print(\"Training Size: {} ({} %)\\nTest Size: {} ({} %)\\nTotal Size: {} (100 %)\\n\".format(training_size, training_percent, testing_size, testing_percent, len(database)))\n",
    "        print(\"Training Partials: {} % SPAM + {} % HAM\\n\".format(training_percent_spam, training_percent_spam_c))\n",
    "        \n",
    "    return training_data, testing_data"
   ]
  },
  {
   "cell_type": "markdown",
   "metadata": {},
   "source": [
    "___"
   ]
  },
  {
   "cell_type": "markdown",
   "metadata": {},
   "source": [
    "## Classificador Naive-Bayes"
   ]
  },
  {
   "cell_type": "markdown",
   "metadata": {},
   "source": [
    "Para compreender melhor o que está sendo feito nos cálculos a seguir, adote a seguinte convenção:\n",
    "\n",
    "$$\\begin{cases}\n",
    "    message_{_{SPAM}}:\\space quantidade\\space de\\space mensagens\\space SPAM\\\\\n",
    "    message_{_{HAM}}:\\space quantidade\\space de\\space mensagens\\space HAM\\\\\n",
    "    message_{_{TOTAL}}:\\space quantidade\\space total\\space de\\space mensagens\\\\\n",
    "    message: \\space uma\\space mensagem\\space qualquer\\\\\n",
    "    word_n:\\space frequência\\space de\\space uma\\space palavra\\space qualquer\\space de\\space uma\\space mensagem\\\\\n",
    "    word_{SPAM}: quantidade\\space de \\space palavras \\space SPAM\\\\\n",
    "    word_{HAM}: quantidade\\space de \\space palavras \\space HAM\\\\\n",
    "    SPAM: \\space ser\\space classificado\\space como\\space SPAM\\\\\n",
    "    HAM: \\space ser classificado\\space como \\space HAM\\\\\n",
    "\\end{cases}$$"
   ]
  },
  {
   "cell_type": "markdown",
   "metadata": {},
   "source": [
    "Sabendo que todas as mensagens são necessariamente e somente SPAM ou HAM,  podemos dizer que suas probabilidades são complementares. Portanto:\n",
    "\n",
    "$$ message_{_{SPAM}} + message_{_{HAM}}\\space=\\space message_{_{TOTAL}}$$\n",
    "\n",
    "$$P(message_{_{SPAM}}) + P(message_{_{HAM}})\\space=\\space 1\\space=\\space 100\\%$$\n",
    "\n",
    "Note que para que um modelo probabilístico funcione ele precisa ser alimentado com valores numéricos, entretanto estamos trabalhando puramente com texto. Para solucionar isso, usa-se algo relativamente simples: **frequência**.\n",
    "\n",
    "E é a relação das frequências de palavras (considernado as mensagens SPAM, as mensagens HAM e todas as mensagens) que se baseia o classificador."
   ]
  },
  {
   "cell_type": "code",
   "execution_count": 6,
   "metadata": {},
   "outputs": [],
   "source": [
    "def training_classifier(training_data, display):\n",
    "    \n",
    "    spam_words = [word  for comment in (training_data[training_data['Class'] == 'spam']['Email']) for word in comment.split(' ') if word != \"\"]\n",
    "    ham_words = [word for comment in (training_data[training_data['Class'] == 'ham']['Email']) for word in comment.split(' ') if word != \"\"]\n",
    "    all_words = spam_words + ham_words\n",
    "\n",
    "    spam_freq = frequence_counter(spam_words)\n",
    "    ham_freq = frequence_counter(ham_words)\n",
    "    all_freq = frequence_counter(all_words)\n",
    "    \n",
    "    if display == True:\n",
    "        print(\"SPAM words: {}\\nHAM words: {}\\nAll words: {}\\n\".format(len(spam_words), len(ham_words), len(all_words)))\n",
    "        print(\"Unique SPAM words: {}\\nUnique HAM words: {}\\nUnique all words: {}\\n\".format(len(spam_freq), len(ham_freq), len(all_freq)))\n",
    "    \n",
    "    return spam_freq, ham_freq, all_freq"
   ]
  },
  {
   "cell_type": "markdown",
   "metadata": {},
   "source": [
    "Da primeira equação, podemos fazer a seguinte :\n",
    "\n",
    "$$message_{_{SPAM}} + message_{_{HAM}} \\space=\\space message_{_{TOTAL}}\\space\\Rightarrow\\space \\frac{message_{_{SPAM}}}{message_{_{TOTAL}}} + \\frac{message_{_{HAM}}}{message_{_{TOTAL}}}\\space=\\space\\frac{message_{_{TOTAL}}}{message_{_{TOTAL}}}\\space=\\space 1$$\n",
    "\n",
    "Comparando a equação obtida e a segunda equação:\n",
    "\n",
    "$$\\frac{message_{_{SPAM}}}{message_{_{TOTAL}}} + \\frac{message_{_{HAM}}}{message_{_{TOTAL}}}\\space=\\space1$$\n",
    "\n",
    "$$P(message_{_{SPAM}}) + P(message_{_{HAM}})\\space=\\space 1$$\n",
    "\n",
    "Logo:\n",
    "\n",
    "$$P(message_{_{SPAM}})=\\frac{message_{_{SPAM}}}{message_{_{TOTAL}}}$$\n",
    "\n",
    "$$P(message_{_{HAM}})=\\frac{message_{_{HAM}}}{message_{_{TOTAl}}}$$"
   ]
  },
  {
   "cell_type": "code",
   "execution_count": 7,
   "metadata": {},
   "outputs": [],
   "source": [
    "def P_SPAM(spam_freq, all_freq):\n",
    "    return len(spam_freq.keys())/len(all_freq.keys())\n",
    "\n",
    "def P_HAM(ham_freq, all_freq):\n",
    "    return len(ham_freq.keys())/len(all_freq.keys())"
   ]
  },
  {
   "cell_type": "markdown",
   "metadata": {},
   "source": [
    "Todo o cálculo por trás do classificador se resume basicamente a duas partes, o Teorema de Bayes e a suposição \"ingênua\" (ou em inglês, \"*naive*\") sobre as palavras de uma frase.\n",
    "\n",
    "Como a suposição \"*naive*\" é necessária ao teorema, faz sentido analisá-la primeiro e depois analisar o teorema."
   ]
  },
  {
   "cell_type": "markdown",
   "metadata": {},
   "source": [
    "A suposição \"*naive*\" é a seguinte:\n",
    "> Assumir que todas as palavras de uma mesma mensagem sejam independentes entre si.\n",
    "\n",
    "Isso significa que a mensagem nada mais é do que um conjunto de palavras (implicando que a ordem dessas palavras é irrelevante, o que é \"ingênuo\" uma vez que sabemos que a ordem das palavras em uma frase têm importância, entretanto isso mantém a simplicidade do classificador e em termos de resultado é eficiente), e portanto a probabilidade de uma mensagem é a probabilidade de cada uma de suas palavras multiplicadas ocorrerem $(palavra_1 \\space e\\space palavra_2 \\space e \\space \\cdots palavra_n)$. \n",
    "\n",
    "Portanto, em termos matemáticos podemos dizer que:\n",
    "\n",
    "$$P(message)\\space=\\space\\prod_{n=word} P(word_n)$$\n",
    "\n",
    "Assim sendo podemos reescrever as equações obtidas anteriormente da seguinte forma:\n",
    "\n",
    "$$P(message|SPAM)\\space=\\space\\prod_{n=word} P(word_n|SPAM)$$\n",
    "\n",
    "$$P(message|HAM)\\space=\\space\\prod_{n=word} P(word_n|HAM)$$\n",
    "\n",
    "Sabemos que $P(word_n|SPAM)$ nada mais é do que a frequência de uma palavra com relação ao total de palavras em SPAM, consequentemente $P(word_n|HAM)$ é a frequência de uma palavra com relação ao total de palavras HAM. Logo:\n",
    "\n",
    "$$P(message|SPAM)\\space=\\space\\prod_{n=word} P(word|SPAM) \\space=\\space\\sum_{n=word} \\frac{word_n}{word_{SPAM}}$$\n",
    "\n",
    "$$P(message|HAM)\\space=\\space\\prod_{n=word} P(word|HAM) \\space=\\space\\sum_{n=word} \\frac{word_n}{word_{HAM}}$$\n"
   ]
  },
  {
   "cell_type": "code",
   "execution_count": 8,
   "metadata": {},
   "outputs": [],
   "source": [
    "def P_word_SPAM(word, spam_freq, all_freq):\n",
    "    if word in spam_freq.keys():\n",
    "        return (spam_freq[word] + 1)/(len(spam_freq.keys()) + len(spam_freq.keys()))\n",
    "    else:\n",
    "        return (1)/(len(spam_freq.keys()) + len(spam_freq.keys()))\n",
    "\n",
    "def P_word_HAM(word, ham_freq, all_freq):\n",
    "    if word in ham_freq.keys():\n",
    "        return (ham_freq[word] + 1)/(len(ham_freq.keys()) + len(all_freq.keys()))\n",
    "    else:\n",
    "        return (1)/(len(ham_freq.keys()) + len(all_freq.keys()))\n",
    "    \n",
    "def P_message_SPAM(message, spam_freq, all_freq):\n",
    "    return np.prod(np.array([P_word_SPAM(word, spam_freq, all_freq) for word in message.split(' ') if word != \"\"]))\n",
    "    \n",
    "def P_message_HAM(message, ham_freq, all_freq):\n",
    "    return np.prod(np.array([P_word_HAM(word, ham_freq, all_freq) for word in message.split(' ') if word != \"\"]))"
   ]
  },
  {
   "cell_type": "markdown",
   "metadata": {},
   "source": [
    "Uma vez que já se tem calculado $P(message|SPAM)$ e $P(message|HAM)$, podemos partir para a segunda parte: o Teorema de Bayes.\n",
    "\n",
    "Segundo o Teorema de Bayes, temos que:\n",
    "\n",
    "$$P(A|B)\\space=\\space\\frac{P(B|A)\\cdot P(A)}{P(B)}$$\n",
    "\n",
    "Trazendo para o contexto do problema, queremos saber a probabilidade de ser SPAM ou HAM dado uma certa mensagem, ou seja, queremos saber $P(SPAM|message)$ e $P(HAM|message)$. \n",
    "\n",
    "Usando o Teorema de Bayes e assumnido que $A:SPAM\\space ou \\space HAM$ e $B:message$, temos que:\n",
    "\n",
    "$$P(SPAM|message)\\space=\\space\\frac{P(message|SPAM)\\cdot P(SPAM)}{P(message)}$$\n",
    "\n",
    "$$P(HAM|message)\\space=\\space\\frac{P(message|HAM)\\cdot P(HAM)}{P(message)}$$\n",
    "\n",
    "Considerando que o classificação consiste em saber qual probabilidade é maior (de ser SPAM ou HAM), basta dividir ambas as equações:\n",
    "\n",
    "$$Classification\\space=\\space\\frac{P(SPAM|message)}{P(HAM|message)}\\space=\\space \\frac{\\frac{P(message|SPAM)\\cdot P(SPAM)}{P(message)}}{\\frac{P(message|HAM)\\cdot P(HAM)}{P(message)}}\\space=\\space \\frac{P(message|SPAM)\\cdot P(SPAM)}{P(message|HAM)\\cdot P(HAM)}$$\n",
    "\n",
    "Com isso, eliminamos a variável $P(message)$ e, além disso, torna-se muito mais fácil a classificação, basta comparar se o resultado é maior ou menor que 0.\n",
    "\n",
    "Note quese a probabilidade de ser SPAM é maior do que ser HAM, ou seja, se $P(message|SPAM) > P(message|HAM)$ o resultado será maior do que 0; caso contrário, ou seja, se $P(message|SPAM) < P(message|HAM)$ o resultado será menor do que 0."
   ]
  },
  {
   "cell_type": "code",
   "execution_count": 9,
   "metadata": {},
   "outputs": [],
   "source": [
    "def classification(message, spam_freq, ham_freq, all_freq):\n",
    "    P_SPAM_message = P_message_SPAM(message, spam_freq, all_freq)*P_SPAM(spam_freq, all_freq)\n",
    "    P_HAM_message = P_message_HAM(message, ham_freq, all_freq)*P_HAM(ham_freq, all_freq)\n",
    "    if P_SPAM_message > P_HAM_message:\n",
    "        return \"spam\"\n",
    "    elif P_SPAM_message < P_HAM_message:\n",
    "        return \"ham\"\n",
    "    else:\n",
    "        return \"unknown\""
   ]
  },
  {
   "cell_type": "markdown",
   "metadata": {},
   "source": [
    "Sabendo classificar uma mensagem em SPAM ou HAM, basta aplicar o mesmo método para todas as mensagens do *database* de testes."
   ]
  },
  {
   "cell_type": "code",
   "execution_count": 10,
   "metadata": {},
   "outputs": [],
   "source": [
    "def test_iteration(test_df, spam_freq, ham_freq, all_freq):\n",
    "    return [classification(comment, spam_freq, ham_freq, all_freq) for comment in test_df['Email']]  "
   ]
  },
  {
   "cell_type": "markdown",
   "metadata": {},
   "source": [
    "Para classificar a qualidade do classificador, deve-se observar os seguintes marcadores de qualidade:\n",
    "\n",
    "* % de falsos positivos (mensagens marcadas como SPAM mas não são SPAM)\n",
    "* % de positivos verdadeiros (mensagens marcadas como SPAM e são SPAM)\n",
    "* % de falsos negativos (mensagens marcadas como não SPAM mas são SPAM)\n",
    "* % de negativos verdadeiros (mensagens marcadas como não SPAM e não são SPAM)"
   ]
  },
  {
   "cell_type": "code",
   "execution_count": 11,
   "metadata": {},
   "outputs": [],
   "source": [
    "def quality_control(testing_df, spam_freq, ham_freq, all_freq, display):\n",
    "    \n",
    "    false_pos = 0\n",
    "    true_pos = 0\n",
    "    false_neg = 0\n",
    "    true_neg = 0\n",
    "    error_detector = 0\n",
    "    total = testing_df.shape[0]\n",
    "    \n",
    "    for test_result, real_result in zip(test_iteration(testing_df, spam_freq, ham_freq, all_freq), testing_df['Class']):\n",
    "        if (test_result == 'spam') and (real_result == 'ham'):\n",
    "            false_pos += 1\n",
    "        elif (test_result == 'spam') and (real_result == 'spam'):\n",
    "            true_pos += 1\n",
    "        elif (test_result == 'ham') and (real_result == 'spam'):\n",
    "            false_neg += 1\n",
    "        elif (test_result == 'ham') and (real_result == 'ham'):\n",
    "            true_neg += 1\n",
    "        else:\n",
    "            error_detector += 1\n",
    "    \n",
    "    if display == True:\n",
    "        print('False Positives: {}\\nTrue Positives: {}\\nFalse Negatives: {}\\nTrue Negatives:{}\\n'.format(false_pos, true_pos, false_neg, true_neg))\n",
    "        print('Efficiency: {} %'.format(round(((true_pos + true_neg)/(true_pos + true_neg + false_pos + false_neg))*100, 2)))\n",
    "        if error_detector != 0:\n",
    "            print('{} errors detected!'.format(error_detector))\n",
    "    return pd.DataFrame([[true_pos, false_pos], [false_neg, true_neg], [error_detector]], index=['spam', 'ham', 'error'], columns=['spam', 'ham'])"
   ]
  },
  {
   "cell_type": "markdown",
   "metadata": {},
   "source": [
    "Com isso o Classificador tem tudo o que precisa para funcionar, lembrando que a ordem de execução é a seguinte:\n",
    "* Separar as bases de treinamento e teste\n",
    "* Treinar o Classificador com a *database* de treinamento\n",
    "* Testar o Classificador com a *database* de testes, comparando os resultados"
   ]
  },
  {
   "cell_type": "code",
   "execution_count": 12,
   "metadata": {},
   "outputs": [],
   "source": [
    "def naive_bayes_classifier(database, test_size, display=True):\n",
    "    # Splits in training and testing databases:\n",
    "    training_data, testing_data = database_separator(pd.read_excel(database), test_size=test_size, display=display)\n",
    "    # Creating dictionaries with words frequencies:\n",
    "    spam_freq, ham_freq, all_freq = training_classifier(training_data, display=display)\n",
    "    # Classifying comments and generating results:\n",
    "    return quality_control(testing_data, spam_freq, ham_freq, all_freq, display=display)"
   ]
  },
  {
   "cell_type": "code",
   "execution_count": 13,
   "metadata": {
    "scrolled": false
   },
   "outputs": [
    {
     "name": "stdout",
     "output_type": "stream",
     "text": [
      "Training Size: 4179 (75.0 %)\n",
      "Test Size: 1393 (25.0 %)\n",
      "Total Size: 5572 (100 %)\n",
      "\n",
      "Training Partials: 10.212 % SPAM + 64.788 % HAM\n",
      "\n",
      "SPAM words: 13245\n",
      "HAM words: 50611\n",
      "All words: 63856\n",
      "\n",
      "Unique SPAM words: 2582\n",
      "Unique HAM words: 6413\n",
      "Unique all words: 8102\n",
      "\n",
      "False Positives: 28\n",
      "True Positives: 167\n",
      "False Negatives: 11\n",
      "True Negatives:1187\n",
      "\n",
      "Efficiency: 97.2 %\n"
     ]
    },
    {
     "data": {
      "text/html": [
       "<div>\n",
       "<style scoped>\n",
       "    .dataframe tbody tr th:only-of-type {\n",
       "        vertical-align: middle;\n",
       "    }\n",
       "\n",
       "    .dataframe tbody tr th {\n",
       "        vertical-align: top;\n",
       "    }\n",
       "\n",
       "    .dataframe thead th {\n",
       "        text-align: right;\n",
       "    }\n",
       "</style>\n",
       "<table border=\"1\" class=\"dataframe\">\n",
       "  <thead>\n",
       "    <tr style=\"text-align: right;\">\n",
       "      <th></th>\n",
       "      <th>spam</th>\n",
       "      <th>ham</th>\n",
       "    </tr>\n",
       "  </thead>\n",
       "  <tbody>\n",
       "    <tr>\n",
       "      <th>spam</th>\n",
       "      <td>167</td>\n",
       "      <td>28.0</td>\n",
       "    </tr>\n",
       "    <tr>\n",
       "      <th>ham</th>\n",
       "      <td>11</td>\n",
       "      <td>1187.0</td>\n",
       "    </tr>\n",
       "    <tr>\n",
       "      <th>error</th>\n",
       "      <td>0</td>\n",
       "      <td>NaN</td>\n",
       "    </tr>\n",
       "  </tbody>\n",
       "</table>\n",
       "</div>"
      ],
      "text/plain": [
       "       spam     ham\n",
       "spam    167    28.0\n",
       "ham      11  1187.0\n",
       "error     0     NaN"
      ]
     },
     "execution_count": 13,
     "metadata": {},
     "output_type": "execute_result"
    }
   ],
   "source": [
    "naive_bayes_classifier('clean-spamham2019.xlsx', 0.25)"
   ]
  },
  {
   "cell_type": "markdown",
   "metadata": {},
   "source": [
    "___"
   ]
  },
  {
   "cell_type": "markdown",
   "metadata": {},
   "source": [
    "## Qualidade do Classificador alternando a base de treinamento"
   ]
  },
  {
   "cell_type": "markdown",
   "metadata": {},
   "source": [
    "Ao fazermos a separação dos dados em *databases* de teste e treinamento, estamos representando uma entre infinitas situações de separação possíveis e, ao usar o Classificador estamos obtendo um entre infinitos resultados possíveis.\n",
    "\n",
    "Entenda que os resultados obtidos dependem dessa separação, e por isso, existe a possibiliadde de serem bons somente em algumas situações.\n",
    "\n",
    "Para provar que o Classificador é eficiente  não só em certas situações, mas sim para quaisquer situações será feito um teste de qualidade que se resume em rodar várias vezes a separação e o classificador, para comprovar que ele é realmente eficiente."
   ]
  },
  {
   "cell_type": "markdown",
   "metadata": {},
   "source": [
    "A primeira coisa necessária é ser capaz de extrair os resultados gerados:"
   ]
  },
  {
   "cell_type": "code",
   "execution_count": 14,
   "metadata": {},
   "outputs": [],
   "source": [
    "def extracting_results(dataframe):\n",
    "    true_pos = dataframe.iloc[0, 0]\n",
    "    false_pos = dataframe.iloc[0, 1]\n",
    "    false_neg = dataframe.iloc[1, 0]\n",
    "    true_neg = dataframe.iloc[1, 1]\n",
    "    errors = dataframe.iloc[2, 0]\n",
    "    \n",
    "    efficiency = ((true_pos + true_neg)/(true_pos + false_pos + false_neg + true_neg))*100\n",
    "    \n",
    "    return [true_pos, false_pos, false_neg, true_neg, errors, efficiency]"
   ]
  },
  {
   "cell_type": "markdown",
   "metadata": {},
   "source": [
    "Em seguida, a separação em *databases* de teste e treinamento será feitas repetidas vezes e em cada vez o Classificador será executado, salvando os resultados obtidos em cada uma das separações."
   ]
  },
  {
   "cell_type": "code",
   "execution_count": 15,
   "metadata": {},
   "outputs": [],
   "source": [
    "def overcycle(cycles=10000, step=100, export=False, display=True):\n",
    "    result_storage = []\n",
    "    for cycle in range(1, cycles + 1):\n",
    "        result_storage.append(extracting_results(naive_bayes_classifier('clean-spamham2019.xlsx', 0.25, display=False)))\n",
    "        if display == True:\n",
    "            if (cycle % round(cycles/step)) == 0:\n",
    "                print(\"Processing...({}/{})\".format(cycle, cycles))\n",
    "        \n",
    "    result_storage_df = pd.DataFrame(result_storage, columns=['True Pos', 'False Pos', 'False Neg', 'True Neg', 'Errors', 'Efficiency'])\n",
    "    print(\"Data compilation successful\")\n",
    "    \n",
    "    if export == True:   \n",
    "        result_storage_df.to_excel('results_log.xlsx')\n",
    "        print(\"Report exported\")\n",
    "    if export == False:\n",
    "        return result_storage_df"
   ]
  },
  {
   "cell_type": "code",
   "execution_count": 16,
   "metadata": {},
   "outputs": [
    {
     "name": "stdout",
     "output_type": "stream",
     "text": [
      "Processing...(100/10000)\n",
      "Processing...(200/10000)\n",
      "Processing...(300/10000)\n",
      "Processing...(400/10000)\n",
      "Processing...(500/10000)\n",
      "Processing...(600/10000)\n",
      "Processing...(700/10000)\n",
      "Processing...(800/10000)\n",
      "Processing...(900/10000)\n",
      "Processing...(1000/10000)\n",
      "Processing...(1100/10000)\n",
      "Processing...(1200/10000)\n",
      "Processing...(1300/10000)\n",
      "Processing...(1400/10000)\n",
      "Processing...(1500/10000)\n",
      "Processing...(1600/10000)\n",
      "Processing...(1700/10000)\n",
      "Processing...(1800/10000)\n",
      "Processing...(1900/10000)\n",
      "Processing...(2000/10000)\n",
      "Processing...(2100/10000)\n",
      "Processing...(2200/10000)\n",
      "Processing...(2300/10000)\n",
      "Processing...(2400/10000)\n",
      "Processing...(2500/10000)\n",
      "Processing...(2600/10000)\n",
      "Processing...(2700/10000)\n",
      "Processing...(2800/10000)\n",
      "Processing...(2900/10000)\n",
      "Processing...(3000/10000)\n",
      "Processing...(3100/10000)\n",
      "Processing...(3200/10000)\n",
      "Processing...(3300/10000)\n",
      "Processing...(3400/10000)\n",
      "Processing...(3500/10000)\n",
      "Processing...(3600/10000)\n",
      "Processing...(3700/10000)\n",
      "Processing...(3800/10000)\n",
      "Processing...(3900/10000)\n",
      "Processing...(4000/10000)\n",
      "Processing...(4100/10000)\n",
      "Processing...(4200/10000)\n",
      "Processing...(4300/10000)\n",
      "Processing...(4400/10000)\n",
      "Processing...(4500/10000)\n",
      "Processing...(4600/10000)\n",
      "Processing...(4700/10000)\n",
      "Processing...(4800/10000)\n",
      "Processing...(4900/10000)\n",
      "Processing...(5000/10000)\n",
      "Processing...(5100/10000)\n",
      "Processing...(5200/10000)\n",
      "Processing...(5300/10000)\n",
      "Processing...(5400/10000)\n",
      "Processing...(5500/10000)\n",
      "Processing...(5600/10000)\n",
      "Processing...(5700/10000)\n",
      "Processing...(5800/10000)\n",
      "Processing...(5900/10000)\n",
      "Processing...(6000/10000)\n",
      "Processing...(6100/10000)\n",
      "Processing...(6200/10000)\n",
      "Processing...(6300/10000)\n",
      "Processing...(6400/10000)\n",
      "Processing...(6500/10000)\n",
      "Processing...(6600/10000)\n",
      "Processing...(6700/10000)\n",
      "Processing...(6800/10000)\n",
      "Processing...(6900/10000)\n",
      "Processing...(7000/10000)\n",
      "Processing...(7100/10000)\n",
      "Processing...(7200/10000)\n",
      "Processing...(7300/10000)\n",
      "Processing...(7400/10000)\n",
      "Processing...(7500/10000)\n",
      "Processing...(7600/10000)\n",
      "Processing...(7700/10000)\n",
      "Processing...(7800/10000)\n",
      "Processing...(7900/10000)\n",
      "Processing...(8000/10000)\n",
      "Processing...(8100/10000)\n",
      "Processing...(8200/10000)\n",
      "Processing...(8300/10000)\n",
      "Processing...(8400/10000)\n",
      "Processing...(8500/10000)\n",
      "Processing...(8600/10000)\n",
      "Processing...(8700/10000)\n",
      "Processing...(8800/10000)\n",
      "Processing...(8900/10000)\n",
      "Processing...(9000/10000)\n",
      "Processing...(9100/10000)\n",
      "Processing...(9200/10000)\n",
      "Processing...(9300/10000)\n",
      "Processing...(9400/10000)\n",
      "Processing...(9500/10000)\n",
      "Processing...(9600/10000)\n",
      "Processing...(9700/10000)\n",
      "Processing...(9800/10000)\n",
      "Processing...(9900/10000)\n",
      "Processing...(10000/10000)\n",
      "Data compilation successful\n",
      "Report exported\n"
     ]
    }
   ],
   "source": [
    "overcycle(10000, step=100, export=True)"
   ]
  },
  {
   "cell_type": "markdown",
   "metadata": {},
   "source": [
    "___"
   ]
  },
  {
   "cell_type": "markdown",
   "metadata": {},
   "source": [
    "## Análise dos Resultados"
   ]
  },
  {
   "cell_type": "code",
   "execution_count": 9,
   "metadata": {},
   "outputs": [
    {
     "data": {
      "text/html": [
       "<div>\n",
       "<style scoped>\n",
       "    .dataframe tbody tr th:only-of-type {\n",
       "        vertical-align: middle;\n",
       "    }\n",
       "\n",
       "    .dataframe tbody tr th {\n",
       "        vertical-align: top;\n",
       "    }\n",
       "\n",
       "    .dataframe thead th {\n",
       "        text-align: right;\n",
       "    }\n",
       "</style>\n",
       "<table border=\"1\" class=\"dataframe\">\n",
       "  <thead>\n",
       "    <tr style=\"text-align: right;\">\n",
       "      <th></th>\n",
       "      <th>True Pos</th>\n",
       "      <th>False Pos</th>\n",
       "      <th>False Neg</th>\n",
       "      <th>True Neg</th>\n",
       "      <th>Errors</th>\n",
       "      <th>Efficiency</th>\n",
       "    </tr>\n",
       "  </thead>\n",
       "  <tbody>\n",
       "    <tr>\n",
       "      <th>0</th>\n",
       "      <td>181</td>\n",
       "      <td>31</td>\n",
       "      <td>10</td>\n",
       "      <td>1169</td>\n",
       "      <td>2</td>\n",
       "      <td>97.052480</td>\n",
       "    </tr>\n",
       "    <tr>\n",
       "      <th>1</th>\n",
       "      <td>170</td>\n",
       "      <td>29</td>\n",
       "      <td>10</td>\n",
       "      <td>1184</td>\n",
       "      <td>0</td>\n",
       "      <td>97.200287</td>\n",
       "    </tr>\n",
       "    <tr>\n",
       "      <th>2</th>\n",
       "      <td>171</td>\n",
       "      <td>30</td>\n",
       "      <td>8</td>\n",
       "      <td>1183</td>\n",
       "      <td>1</td>\n",
       "      <td>97.270115</td>\n",
       "    </tr>\n",
       "    <tr>\n",
       "      <th>3</th>\n",
       "      <td>164</td>\n",
       "      <td>44</td>\n",
       "      <td>9</td>\n",
       "      <td>1176</td>\n",
       "      <td>0</td>\n",
       "      <td>96.195262</td>\n",
       "    </tr>\n",
       "    <tr>\n",
       "      <th>4</th>\n",
       "      <td>176</td>\n",
       "      <td>46</td>\n",
       "      <td>12</td>\n",
       "      <td>1159</td>\n",
       "      <td>0</td>\n",
       "      <td>95.836324</td>\n",
       "    </tr>\n",
       "  </tbody>\n",
       "</table>\n",
       "</div>"
      ],
      "text/plain": [
       "   True Pos  False Pos  False Neg  True Neg  Errors  Efficiency\n",
       "0       181         31         10      1169       2   97.052480\n",
       "1       170         29         10      1184       0   97.200287\n",
       "2       171         30          8      1183       1   97.270115\n",
       "3       164         44          9      1176       0   96.195262\n",
       "4       176         46         12      1159       0   95.836324"
      ]
     },
     "execution_count": 9,
     "metadata": {},
     "output_type": "execute_result"
    }
   ],
   "source": [
    "results_log = pd.read_excel('results_log.xlsx')\n",
    "results_log.head()"
   ]
  },
  {
   "cell_type": "markdown",
   "metadata": {},
   "source": [
    "Com os resultados das diversas iterações, será criado um histograma com os percentuais de acerto:"
   ]
  },
  {
   "cell_type": "code",
   "execution_count": 28,
   "metadata": {},
   "outputs": [
    {
     "data": {
      "image/png": "[encoded data removed]",
      "text/plain": [
       "<Figure size 432x288 with 1 Axes>"
      ]
     },
     "metadata": {
      "needs_background": "light"
     },
     "output_type": "display_data"
    }
   ],
   "source": [
    "plt.hist(results_log['Efficiency'], bins=100)\n",
    "plt.xlabel('Efficiency')\n",
    "plt.ylabel(\"Density\")\n",
    "plt.grid()\n",
    "plt.show()"
   ]
  },
  {
   "cell_type": "markdown",
   "metadata": {},
   "source": [
    "Com os dados do histograma podemos dizer com mais clareza a qualidade do Classificador, uma vez que temos dados suficientes para gerar uma análise.\n",
    "\n",
    "Seus resultados variam entre $95\\%$ e $98,5\\%$, aproximadamente."
   ]
  },
  {
   "cell_type": "code",
   "execution_count": 10,
   "metadata": {},
   "outputs": [
    {
     "name": "stdout",
     "output_type": "stream",
     "text": [
      "Max Efficiency: 98.5642 %\n",
      "Min Efficiency: 95.1149 %\n",
      "Mean Efficiency: 96.828 %\n"
     ]
    }
   ],
   "source": [
    "print('Max Efficiency: {} %\\nMin Efficiency: {} %\\nMean Efficiency: {} %'.format(round(max(results_log['Efficiency']), 4), round(min(results_log['Efficiency']), 4), round(results_log['Efficiency'].mean(), 4)))"
   ]
  },
  {
   "cell_type": "markdown",
   "metadata": {},
   "source": [
    "Em média, o programa classifica quase $97\\%$ das mensagens corretamente."
   ]
  },
  {
   "cell_type": "markdown",
   "metadata": {},
   "source": [
    "Outro dado interessante a ser observado é a quantidade de erros gerados pelo programa. Um erro é gerado quando o classificador não sabe se uma determinada mensagem é SPAM ou HAM e o classifica como *\"unknown\"* Observe com atenção o código implementado na função `classification`:\n",
    "\n",
    ">`if P_SPAM_message > P_HAM_message:\n",
    "    return \"spam\"\n",
    "elif P_SPAM_message < P_HAM_message:\n",
    "    return \"ham\"\n",
    "else:\n",
    "    return \"unknown\"`\n",
    "    \n",
    "Segundo o código, a mensagem é classificada como *\"unknown\"* quando $P(message|SPAM)$ não é nem maior nem menor do que $P(message|HAM)$, ou seja:\n",
    "\n",
    "$$P(message|SPAM)\\nless P(message|HAM)$$\n",
    "$$P(message|SPAM)\\ngtr P(message|HAM)$$\n",
    "\n",
    "Portanto, para que ambas as sentenças sejam verdadeiras, a única solução possível é que ambas probabilidades sejam iguais:\n",
    "\n",
    "$$P(message|SPAM)=P(message|HAM)$$\n",
    "\n",
    "A maior suspeita para gerar tal resultado são mensagens longas. Mensagens longas tem muitas palavras o que acarreta em muitos termos no multiplicatório quando é calculado $P(message|SPAM)$ e $P(message|HAM)$ onde cada um desses termos é menor do que 1, já que:\n",
    "$$P(message_{_{SPAM}})=\\frac{message_{_{SPAM}}}{message_{_{TOTAL}}}$$\n",
    "\n",
    "Onde a sentença $message_{_{SPAM}} > message_{_{TOTAL}}$ é sempre verdadeira, já que $message_{_{SPAM}} \\subset message_{_{TOTAL}}$ (lê-se: o conjunto de mensagens classificadas como SPAM é subconjunto do conjunto de mensagens totais). O mesmo se aplicada para $P(message_{_{SPAM}})$.\n",
    "\n",
    "Sendo assim, ao realizar o multiplicatório com tantas probabilidades menores do que 1, o resultado obtido é compreendido como 0 pelo computador em ambas as probabilidades, chegando na seguinte conclusão:\n",
    "\n",
    "\n",
    "$$P(message|SPAM)\\space=\\space0\\space=\\space P(message|HAM)$$\n",
    "$$\\Rightarrow\\space message_{unknown}$$"
   ]
  },
  {
   "cell_type": "markdown",
   "metadata": {},
   "source": [
    "Após compreender como os erros são gerados, é necessário analisar com que frequência eles aparecem. Entenda que presença de erros pode ser um problema dependendo da quantidade."
   ]
  },
  {
   "cell_type": "code",
   "execution_count": 43,
   "metadata": {
    "scrolled": false
   },
   "outputs": [
    {
     "data": {
      "image/png": "[encoded data removed]",
      "text/plain": [
       "<Figure size 432x288 with 1 Axes>"
      ]
     },
     "metadata": {
      "needs_background": "light"
     },
     "output_type": "display_data"
    },
    {
     "name": "stdout",
     "output_type": "stream",
     "text": [
      "0 errors: 56.4 %\n",
      "1 errors: 37.24 %\n",
      "2 errors: 6.36 %\n",
      "\n",
      "Mean Errors: 0.4996\n"
     ]
    }
   ],
   "source": [
    "results_log['Errors'].value_counts(normalize=True).plot(kind='bar')\n",
    "plt.title(\"Errors Detection\")\n",
    "plt.xlabel(\"Errors' Amount\" )\n",
    "plt.ylabel('Density')\n",
    "plt.grid()\n",
    "plt.show()\n",
    "\n",
    "errors_list = [print('{} errors: {} %'.format(x, round(y, 4))) for x, y in zip(results_log['Errors'].value_counts(normalize=True).keys(), results_log['Errors'].value_counts(normalize=True).values*100)]\n",
    "\n",
    "print('\\nMean Errors: {}'.format(results_log['Errors'].mean()))"
   ]
  },
  {
   "cell_type": "markdown",
   "metadata": {},
   "source": [
    "Pelos resultados obtidos vemos que o não houve mais do que 2 erros em qualquer uma das 10000 situações criadas, sendo que dessas situações mais da metade ($56,4\\%$) não apresentaram erro nenhum.\n",
    "\n",
    "Considerando que no total há aproximadamente 1400 mensagens na base de testes, é aceitável que 2 delas sejam consideradas como erros."
   ]
  },
  {
   "cell_type": "markdown",
   "metadata": {},
   "source": [
    "## Conclusão"
   ]
  },
  {
   "cell_type": "markdown",
   "metadata": {},
   "source": [
    "Pode-se concluir que o Classificador Naive-Bayes foi bem sucedido, uma vez que seus resultados se mostraram satisfatórios.\n",
    "Ainda sim, algumas melhorias podem ser feitas, tais como:\n",
    "* Unificar radicais (Ex.: comprar,comprei e compras se tornariam um radical só: compr)\n",
    "* Impedir valores de probabilidades muito próximos de 0 (Ex.: dividir mensagens grandes em sub-mensagens, calcular probabilidades de SPAM e HAM para essas sub-mensagens, multiplicá-las por um valor $x<1$ e depois multiplicá-las entre si, gerando a probabilidade da mensagem original)"
   ]
  }
 ],
 "metadata": {
  "anaconda-cloud": {},
  "kernelspec": {
   "display_name": "Python 3",
   "language": "python",
   "name": "python3"
  },
  "language_info": {
   "codemirror_mode": {
    "name": "ipython",
    "version": 2
   },
   "file_extension": ".py",
   "mimetype": "text/x-python",
   "name": "python",
   "nbconvert_exporter": "python",
   "pygments_lexer": "ipython2",
   "version": "2.7.15+"
  }
 },
 "nbformat": 4,
 "nbformat_minor": 1
}
